{
 "cells": [
  {
   "cell_type": "code",
   "execution_count": 70,
   "metadata": {},
   "outputs": [],
   "source": [
    "import numpy as np\n",
    "import pandas as pd"
   ]
  },
  {
   "cell_type": "code",
   "execution_count": 71,
   "metadata": {},
   "outputs": [],
   "source": [
    "tweets = pd.read_csv('twitter_unique.csv', lineterminator='\\n')"
   ]
  },
  {
   "cell_type": "code",
   "execution_count": 72,
   "metadata": {},
   "outputs": [],
   "source": [
    "def find_word(df, key_vector):\n",
    "    dfFrame=pd.DataFrame({'text' : pd.Series() })\n",
    "    for key in key_vector:\n",
    "        dfFrame = dfFrame.append(df[df['text'].str.contains(key)]['text'])\n",
    "    return dfFrame"
   ]
  },
  {
   "cell_type": "code",
   "execution_count": 73,
   "metadata": {},
   "outputs": [
    {
     "data": {
      "text/plain": [
       "['help',\n",
       " 'help me',\n",
       " 'need help',\n",
       " 'please help',\n",
       " 'please help me',\n",
       " 'emergency',\n",
       " 'need',\n",
       " 'blanket',\n",
       " 'food',\n",
       " 'need rescue',\n",
       " 'need to evacuate',\n",
       " 'need to leave',\n",
       " 'need to get out',\n",
       " 'rescue',\n",
       " 'rescue me',\n",
       " 'please',\n",
       " 'danger',\n",
       " 'in danger',\n",
       " 'dangerous',\n",
       " 'need boat',\n",
       " 'have boat',\n",
       " 'water rescue',\n",
       " 'medical help',\n",
       " 'tree down',\n",
       " 'water',\n",
       " 'flood',\n",
       " 'water in house',\n",
       " 'house flooded',\n",
       " 'house is flooding',\n",
       " 'water rising',\n",
       " 'road blocked',\n",
       " 'national guard',\n",
       " 'police',\n",
       " 'rescuers',\n",
       " 'volunteers',\n",
       " 'firemen',\n",
       " 'police officer',\n",
       " '911',\n",
       " 'call 911',\n",
       " 'ambulance',\n",
       " 'national guard',\n",
       " 'damage',\n",
       " 'news',\n",
       " 'donate',\n",
       " 'red cross']"
      ]
     },
     "execution_count": 73,
     "metadata": {},
     "output_type": "execute_result"
    }
   ],
   "source": [
    "keys = []\n",
    "keysfile = open('keys.txt', 'r')\n",
    "for line in keysfile:\n",
    "    line = line.strip().lower()\n",
    "    if len(line)==0:\n",
    "        continue\n",
    "    else:\n",
    "        keys.append(line)\n",
    "keys"
   ]
  },
  {
   "cell_type": "code",
   "execution_count": null,
   "metadata": {},
   "outputs": [],
   "source": [
    "df_keys = find_word(tweets, keys)\n",
    "df_keys"
   ]
  },
  {
   "cell_type": "code",
   "execution_count": 43,
   "metadata": {},
   "outputs": [],
   "source": [
    "df_keys = df_keys.drop('Unnamed: 0', axis=1).reset_index()['text']\n",
    "df_keys"
   ]
  },
  {
   "cell_type": "code",
   "execution_count": 44,
   "metadata": {},
   "outputs": [
    {
     "data": {
      "text/plain": [
       "\"@ABC13Elita @SylvesterTurner The amount of tweets I've seen like this -- terrifying. So many still need help. Polic… https://t.co/SjrPs0fdmm\""
      ]
     },
     "execution_count": 44,
     "metadata": {},
     "output_type": "execute_result"
    }
   ],
   "source": [
    "df_keys.loc[0]['text']"
   ]
  },
  {
   "cell_type": "code",
   "execution_count": 45,
   "metadata": {},
   "outputs": [],
   "source": [
    "df_keys.to_csv('subset.csv')"
   ]
  },
  {
   "cell_type": "code",
   "execution_count": null,
   "metadata": {},
   "outputs": [],
   "source": []
  }
 ],
 "metadata": {
  "kernelspec": {
   "display_name": "Python 3",
   "language": "python",
   "name": "python3"
  },
  "language_info": {
   "codemirror_mode": {
    "name": "ipython",
    "version": 3
   },
   "file_extension": ".py",
   "mimetype": "text/x-python",
   "name": "python",
   "nbconvert_exporter": "python",
   "pygments_lexer": "ipython3",
   "version": "3.6.5"
  }
 },
 "nbformat": 4,
 "nbformat_minor": 2
}
