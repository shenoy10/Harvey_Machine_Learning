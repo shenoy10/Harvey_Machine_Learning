{
 "cells": [
  {
   "cell_type": "code",
   "execution_count": 1,
   "metadata": {},
   "outputs": [
    {
     "name": "stdout",
     "output_type": "stream",
     "text": [
      "[nltk_data] Downloading package wordnet to /home/ashwin/nltk_data...\n",
      "[nltk_data]   Package wordnet is already up-to-date!\n"
     ]
    }
   ],
   "source": [
    "import numpy as np\n",
    "import pandas as pd\n",
    "\n",
    "import gensim\n",
    "from gensim.utils import simple_preprocess\n",
    "from nltk.stem import WordNetLemmatizer\n",
    "import nltk\n",
    "nltk.download('wordnet')\n",
    "from nltk.tokenize import word_tokenize\n",
    "from nltk.corpus import stopwords\n",
    "stop_words = set(stopwords.words('english'))\n",
    "\n",
    "path_data = '../harvey-twitter/data/harvey_twitter_dataset/02_archive_only/HurricaneHarvey.json'\n",
    "#path_data = \"/corral-repl/utexas/Trump-Tweets/Harvey/unt_data/harvey_twitter_dataset/02_archive_only/HurricaneHarvey.json\""
   ]
  },
  {
   "cell_type": "code",
   "execution_count": 2,
   "metadata": {},
   "outputs": [
    {
     "data": {
      "text/html": [
       "<div>\n",
       "<style scoped>\n",
       "    .dataframe tbody tr th:only-of-type {\n",
       "        vertical-align: middle;\n",
       "    }\n",
       "\n",
       "    .dataframe tbody tr th {\n",
       "        vertical-align: top;\n",
       "    }\n",
       "\n",
       "    .dataframe thead th {\n",
       "        text-align: right;\n",
       "    }\n",
       "</style>\n",
       "<table border=\"1\" class=\"dataframe\">\n",
       "  <thead>\n",
       "    <tr style=\"text-align: right;\">\n",
       "      <th></th>\n",
       "      <th>Unnamed: 0</th>\n",
       "      <th>text</th>\n",
       "    </tr>\n",
       "  </thead>\n",
       "  <tbody>\n",
       "    <tr>\n",
       "      <th>0</th>\n",
       "      <td>0</td>\n",
       "      <td>RT @aaronjayjack: Displaced dog jumped into my...</td>\n",
       "    </tr>\n",
       "    <tr>\n",
       "      <th>1</th>\n",
       "      <td>1</td>\n",
       "      <td>RT @JanelleKHOU: Water is seeping into the stu...</td>\n",
       "    </tr>\n",
       "    <tr>\n",
       "      <th>2</th>\n",
       "      <td>2</td>\n",
       "      <td>RT @ReadyHarris: OPEN SHELTER: North Shore 9th...</td>\n",
       "    </tr>\n",
       "    <tr>\n",
       "      <th>3</th>\n",
       "      <td>3</td>\n",
       "      <td>RT @LHuffmanPowell: This dog is walking around...</td>\n",
       "    </tr>\n",
       "    <tr>\n",
       "      <th>4</th>\n",
       "      <td>4</td>\n",
       "      <td>RT @fema: Please remember: #Harvey is still an...</td>\n",
       "    </tr>\n",
       "  </tbody>\n",
       "</table>\n",
       "</div>"
      ],
      "text/plain": [
       "   Unnamed: 0                                               text\n",
       "0           0  RT @aaronjayjack: Displaced dog jumped into my...\n",
       "1           1  RT @JanelleKHOU: Water is seeping into the stu...\n",
       "2           2  RT @ReadyHarris: OPEN SHELTER: North Shore 9th...\n",
       "3           3  RT @LHuffmanPowell: This dog is walking around...\n",
       "4           4  RT @fema: Please remember: #Harvey is still an..."
      ]
     },
     "execution_count": 2,
     "metadata": {},
     "output_type": "execute_result"
    }
   ],
   "source": [
    "df = pd.read_csv('data/twitter_text.csv',lineterminator='\\n')\n",
    "df.head()"
   ]
  },
  {
   "cell_type": "code",
   "execution_count": 3,
   "metadata": {},
   "outputs": [
    {
     "data": {
      "text/plain": [
       "['displace',\n",
       " 'dog',\n",
       " 'jump',\n",
       " 'jeep',\n",
       " 'please',\n",
       " 'share',\n",
       " 'help',\n",
       " 'find',\n",
       " 'owner',\n",
       " 'harvey',\n",
       " 'hurricane',\n",
       " 'displacedpets',\n",
       " 'link']"
      ]
     },
     "execution_count": 3,
     "metadata": {},
     "output_type": "execute_result"
    }
   ],
   "source": [
    "def process_tweet(tweet):\n",
    "    st_1 = []\n",
    "    for w in tweet.split():\n",
    "        #remove retweet annotation if present:\n",
    "        if w == 'RT' or w[0] == '@':\n",
    "            continue\n",
    "        #remove hashtag symbol\n",
    "        elif w[0] == '#':\n",
    "            st_1.append(w[1:])\n",
    "        #replace link with LINK keyword\n",
    "        elif w[:4] == 'http':\n",
    "            st_1.append('link')\n",
    "        else:\n",
    "            st_1.append(w)\n",
    "    \n",
    "    st_2 =  word_tokenize(' '.join(st_1))\n",
    "    \n",
    "    #remove stop words and punctuation, make everything lowercase\n",
    "    st_3 = [w.lower() for w in st_2 if w.isalpha() and not w in stop_words]\n",
    "    \n",
    "    #lemmatization (converts all words to root form for standardization)\n",
    "    lem = WordNetLemmatizer()\n",
    "    st_4 = list(map(lambda x: lem.lemmatize(x, pos='v'), st_3))\n",
    "    return st_4\n",
    "\n",
    "doc_sample = df['text'][0]\n",
    "process_tweet(doc_sample)"
   ]
  },
  {
   "cell_type": "code",
   "execution_count": 6,
   "metadata": {},
   "outputs": [
    {
     "data": {
      "text/plain": [
       "0        [displace, dog, jump, jeep, please, share, hel...\n",
       "1        [water, seep, studio, buffalo, bayou, about, m...\n",
       "2        [open, shelter, north, shore, grade, center, h...\n",
       "3        [this, dog, walk, around, sinton, tx, carry, e...\n",
       "4        [please, remember, harvey, still, active, stor...\n",
       "5        [buffalo, bayou, come, studios, they, go, seco...\n",
       "6        [harvey, at, least, two, people, have, be, kil...\n",
       "7        [please, retweet, link, link, link, houston, h...\n",
       "8        [please, retweet, link, link, link, houston, h...\n",
       "9        [więcej, skutkach, huraganu, harvey, w, relacj...\n",
       "10       [catastrophic, flood, underway, across, texas,...\n",
       "11       [new, flash, flood, emergency, for, catastroph...\n",
       "12       [harvey, major, flood, ongoing, harvey, barely...\n",
       "13       [most, us, houston, ca, get, church, morning, ...\n",
       "14       [a, tv, station, houston, khou, move, broadcas...\n",
       "15       [there, several, days, continuous, rain, consi...\n",
       "16       [dozens, shelter, open, along, path, hurricane...\n",
       "17       [the, cbs, affiliate, houston, start, take, wa...\n",
       "18       [a, large, band, harvey, impact, greater, hous...\n",
       "19       [first, cc, i, see, help, impact, harvey, damn...\n",
       "20       [ts, harvey, produce, catastrophic, flood, se,...\n",
       "21       [get, on, your, roof, if, necessary, if, you, ...\n",
       "22       [a, man, houston, claim, hawk, would, leave, t...\n",
       "23          [water, enter, station, houston, harvey, link]\n",
       "24       [get, on, your, roof, if, necessary, if, you, ...\n",
       "25       [ts, harvey, produce, catastrophic, flood, se,...\n",
       "26       [varios, edificios, colapsados, en, rockport, ...\n",
       "27       [texas, officer, save, americanflag, in, middl...\n",
       "28       [the, latest, the, arcpoint, labs, daily, link...\n",
       "29       [civil, emergency, message, houston, metro, ga...\n",
       "                               ...                        \n",
       "99970    [just, in, mayor, confirm, one, dead, rockport...\n",
       "99971    [new, harvey, continue, intensify, category, h...\n",
       "99972    [nws, major, river, flood, forecast, many, loc...\n",
       "99973    [a, federally, subsidize, house, complex, rebu...\n",
       "99974    [watch, harvey, move, texas, geocolor, loop, g...\n",
       "99975    [displace, dog, jump, jeep, please, share, hel...\n",
       "99976    [this, dog, walk, around, sinton, tx, carry, e...\n",
       "99977    [lot, damage, port, aransas, hurricaneharvey, ...\n",
       "99978    [harvey, downgrade, tropical, storm, latest, t...\n",
       "99979    [flood, threat, rise, harvey, dump, torrential...\n",
       "99980    [new, i, believe, aka, blueshed, cover, eye, w...\n",
       "99981    [city, rockport, may, deal, wind, anymore, sto...\n",
       "99982    [more, devastation, flood, westerlies, south, ...\n",
       "99983    [debris, electric, pole, along, highway, head,...\n",
       "99984    [harvey, dejó, severos, extensos, daños, en, r...\n",
       "99985    [this, dog, walk, around, sinton, tx, carry, e...\n",
       "99986    [damage, rockport, extensive, several, build, ...\n",
       "99987    [harvey, wind, decrease, catastrophic, flood, ...\n",
       "99988    [trump, revoke, obama, executive, order, highe...\n",
       "99989    [get, fry, cocktail, fix, next, round, rain, c...\n",
       "99990    [un, ejemplo, de, lo, que, no, se, hace, en, u...\n",
       "99991    [rockport, first, drone, video, rockport, hurr...\n",
       "99992    [i, would, buy, i, get, lot, rain, amp, wind, ...\n",
       "99993    [heb, mobile, kitchens, ready, go, fee, impact...\n",
       "99994         [fatalities, cause, harvey, prayers, affect]\n",
       "99995    [harvey, downgrade, meteorologist, predict, ma...\n",
       "99996    [displace, dog, jump, jeep, please, share, hel...\n",
       "99997    [help, people, affect, hurricane, harvey, your...\n",
       "99998    [major, devastation, holiday, beach, tx, north...\n",
       "99999    [el, feroz, momento, en, que, harvey, tocó, ti...\n",
       "Name: text, Length: 100000, dtype: object"
      ]
     },
     "execution_count": 6,
     "metadata": {},
     "output_type": "execute_result"
    }
   ],
   "source": [
    "#for backwards-compatibility (Python 3.7 has str.isascii)\n",
    "def is_ascii(s):\n",
    "    return all(ord(c) < 128 for c in s)\n",
    "\n",
    "tweets = df['text']\n",
    "processed_tweets = tweets.map(process_tweet)\n",
    "processed_tweets.to_csv('data/twitter_text_processed.csv')\n",
    "processed_tweets.head()"
   ]
  },
  {
   "cell_type": "code",
   "execution_count": 66,
   "metadata": {},
   "outputs": [
    {
     "name": "stdout",
     "output_type": "stream",
     "text": [
      "0 displace\n",
      "1 displacedpets\n",
      "2 dog\n",
      "3 find\n",
      "4 harvey\n",
      "5 help\n",
      "6 hurricane\n",
      "7 jeep\n",
      "8 jump\n",
      "9 link\n",
      "10 owner\n"
     ]
    }
   ],
   "source": [
    "dictionary = gensim.corpora.Dictionary(processed_tweets)\n",
    "count = 0\n",
    "\n",
    "#now show the most frequently-tweeted words\n",
    "for k, v in dictionary.iteritems():\n",
    "    print(k, v)\n",
    "    count += 1\n",
    "    if count > 10:\n",
    "        break\n",
    "\n",
    "#now filter out words that show up too infrequently or too frequently\n",
    "dictionary.filter_extremes(no_below=15, no_above=0.5, keep_n=100000)"
   ]
  },
  {
   "cell_type": "code",
   "execution_count": null,
   "metadata": {},
   "outputs": [],
   "source": []
  }
 ],
 "metadata": {
  "kernelspec": {
   "display_name": "Python 3",
   "language": "python",
   "name": "python3"
  },
  "language_info": {
   "codemirror_mode": {
    "name": "ipython",
    "version": 3
   },
   "file_extension": ".py",
   "mimetype": "text/x-python",
   "name": "python",
   "nbconvert_exporter": "python",
   "pygments_lexer": "ipython3",
   "version": "3.6.8"
  }
 },
 "nbformat": 4,
 "nbformat_minor": 2
}
