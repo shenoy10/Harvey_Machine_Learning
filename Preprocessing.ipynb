{
 "cells": [
  {
   "cell_type": "code",
   "execution_count": 21,
   "metadata": {},
   "outputs": [
    {
     "name": "stdout",
     "output_type": "stream",
     "text": [
      "[nltk_data] Downloading package wordnet to /home/ashwin/nltk_data...\n",
      "[nltk_data]   Package wordnet is already up-to-date!\n"
     ]
    }
   ],
   "source": [
    "import numpy as np\n",
    "import pandas as pd\n",
    "from pprint import pprint\n",
    "\n",
    "import gensim\n",
    "from gensim.utils import simple_preprocess\n",
    "from gensim import corpora, models\n",
    "\n",
    "from nltk.stem import WordNetLemmatizer\n",
    "import nltk\n",
    "nltk.download('wordnet')\n",
    "from nltk.tokenize import word_tokenize\n",
    "from nltk.corpus import stopwords\n",
    "stop_words = set(stopwords.words('english'))"
   ]
  },
  {
   "cell_type": "code",
   "execution_count": 3,
   "metadata": {},
   "outputs": [
    {
     "data": {
      "text/html": [
       "<div>\n",
       "<style scoped>\n",
       "    .dataframe tbody tr th:only-of-type {\n",
       "        vertical-align: middle;\n",
       "    }\n",
       "\n",
       "    .dataframe tbody tr th {\n",
       "        vertical-align: top;\n",
       "    }\n",
       "\n",
       "    .dataframe thead th {\n",
       "        text-align: right;\n",
       "    }\n",
       "</style>\n",
       "<table border=\"1\" class=\"dataframe\">\n",
       "  <thead>\n",
       "    <tr style=\"text-align: right;\">\n",
       "      <th></th>\n",
       "      <th>text</th>\n",
       "      <th>retweet_count</th>\n",
       "    </tr>\n",
       "  </thead>\n",
       "  <tbody>\n",
       "    <tr>\n",
       "      <th>0</th>\n",
       "      <td>Displaced dog jumped into my jeep. Please shar...</td>\n",
       "      <td>9193</td>\n",
       "    </tr>\n",
       "    <tr>\n",
       "      <th>1</th>\n",
       "      <td>Water is seeping into the studio from Buffalo ...</td>\n",
       "      <td>16</td>\n",
       "    </tr>\n",
       "    <tr>\n",
       "      <th>2</th>\n",
       "      <td>OPEN SHELTER: North Shore 9th Grade Center -  ...</td>\n",
       "      <td>36</td>\n",
       "    </tr>\n",
       "    <tr>\n",
       "      <th>3</th>\n",
       "      <td>This dog is walking around Sinton TX carrying ...</td>\n",
       "      <td>8626</td>\n",
       "    </tr>\n",
       "    <tr>\n",
       "      <th>4</th>\n",
       "      <td>Please remember: #Harvey is still an active st...</td>\n",
       "      <td>673</td>\n",
       "    </tr>\n",
       "  </tbody>\n",
       "</table>\n",
       "</div>"
      ],
      "text/plain": [
       "                                                text  retweet_count\n",
       "0  Displaced dog jumped into my jeep. Please shar...           9193\n",
       "1  Water is seeping into the studio from Buffalo ...             16\n",
       "2  OPEN SHELTER: North Shore 9th Grade Center -  ...             36\n",
       "3  This dog is walking around Sinton TX carrying ...           8626\n",
       "4  Please remember: #Harvey is still an active st...            673"
      ]
     },
     "execution_count": 3,
     "metadata": {},
     "output_type": "execute_result"
    }
   ],
   "source": [
    "df = pd.read_csv('data/twitter_unique.csv',lineterminator='\\n')\n",
    "df.pop('Unnamed: 0')\n",
    "df.head()"
   ]
  },
  {
   "cell_type": "code",
   "execution_count": 4,
   "metadata": {},
   "outputs": [
    {
     "data": {
      "text/plain": [
       "['displace',\n",
       " 'dog',\n",
       " 'jump',\n",
       " 'jeep',\n",
       " 'please',\n",
       " 'share',\n",
       " 'help',\n",
       " 'find',\n",
       " 'owner',\n",
       " 'harvey',\n",
       " 'hurricane',\n",
       " 'displacedpets',\n",
       " 'link']"
      ]
     },
     "execution_count": 4,
     "metadata": {},
     "output_type": "execute_result"
    }
   ],
   "source": [
    "def process_tweet(tweet):\n",
    "    st_1 = []\n",
    "    for w in tweet.split():\n",
    "        #remove retweet annotation if present:\n",
    "        if w == 'RT' or w[0] == '@':\n",
    "            continue\n",
    "        #remove hashtag symbol\n",
    "        elif w[0] == '#':\n",
    "            st_1.append(w[1:])\n",
    "        #replace link with LINK keyword\n",
    "        elif w[:4] == 'http':\n",
    "            st_1.append('link')\n",
    "        else:\n",
    "            st_1.append(w)\n",
    "    \n",
    "    st_2 =  word_tokenize(' '.join(st_1))\n",
    "    \n",
    "    #remove stop words and punctuation, make everything lowercase\n",
    "    st_3 = [w.lower() for w in st_2 if w.isalpha() and not w in stop_words]\n",
    "    \n",
    "    #lemmatization (converts all words to root form for standardization)\n",
    "    lem = WordNetLemmatizer()\n",
    "    st_4 = list(map(lambda x: lem.lemmatize(x, pos='v'), st_3))\n",
    "    return st_4\n",
    "\n",
    "doc_sample = df['text'][0]\n",
    "process_tweet(doc_sample)"
   ]
  },
  {
   "cell_type": "code",
   "execution_count": 5,
   "metadata": {},
   "outputs": [
    {
     "data": {
      "text/plain": [
       "0    [displace, dog, jump, jeep, please, share, hel...\n",
       "1    [water, seep, studio, buffalo, bayou, about, m...\n",
       "2    [open, shelter, north, shore, grade, center, h...\n",
       "3    [this, dog, walk, around, sinton, tx, carry, e...\n",
       "4    [please, remember, harvey, still, active, stor...\n",
       "Name: text, dtype: object"
      ]
     },
     "execution_count": 5,
     "metadata": {},
     "output_type": "execute_result"
    }
   ],
   "source": [
    "#for backwards-compatibility (Python 3.7 has str.isascii)\n",
    "def is_ascii(s):\n",
    "    return all(ord(c) < 128 for c in s)\n",
    "\n",
    "tweets = df['text']\n",
    "processed_tweets = tweets.map(process_tweet)\n",
    "processed_tweets.to_csv('data/twitter_text_processed.csv')\n",
    "processed_tweets.head()"
   ]
  },
  {
   "cell_type": "code",
   "execution_count": 11,
   "metadata": {},
   "outputs": [],
   "source": [
    "proc = pd.DataFrame(data=processed_tweets)\n",
    "proc.to_csv('data/twitter_processed.csv')"
   ]
  }
 ],
 "metadata": {
  "kernelspec": {
   "display_name": "Python 3",
   "language": "python",
   "name": "python3"
  },
  "language_info": {
   "codemirror_mode": {
    "name": "ipython",
    "version": 3
   },
   "file_extension": ".py",
   "mimetype": "text/x-python",
   "name": "python",
   "nbconvert_exporter": "python",
   "pygments_lexer": "ipython3",
   "version": "3.6.8"
  }
 },
 "nbformat": 4,
 "nbformat_minor": 2
}
