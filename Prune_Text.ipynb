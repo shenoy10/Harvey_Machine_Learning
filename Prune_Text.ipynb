{
 "cells": [
  {
   "cell_type": "code",
   "execution_count": 1,
   "metadata": {},
   "outputs": [],
   "source": [
    "import numpy as np\n",
    "import pandas as pd"
   ]
  },
  {
   "cell_type": "markdown",
   "metadata": {},
   "source": [
    "The purpose of this notebook is to take the pruned dataframe that only contains tweets and convert it into \n",
    "a more compressed format that only contains unique tweets."
   ]
  },
  {
   "cell_type": "code",
   "execution_count": 4,
   "metadata": {},
   "outputs": [
    {
     "name": "stdout",
     "output_type": "stream",
     "text": [
      "(7041866, 3)\n"
     ]
    },
    {
     "data": {
      "text/plain": [
       "'RT @aaronjayjack: Displaced dog jumped into my jeep. Please share to help find owner! #harvey #hurricane #displacedpets https://t.co/0C6Ve9…'"
      ]
     },
     "execution_count": 4,
     "metadata": {},
     "output_type": "execute_result"
    }
   ],
   "source": [
    "df = pd.read_csv('data/twitter_text.csv',lineterminator='\\n')\n",
    "print(df.shape)\n",
    "df['text'][0]"
   ]
  },
  {
   "cell_type": "markdown",
   "metadata": {},
   "source": [
    "Our next step is to create a set containing all \"seen\" tweets so that as we loop through all the tweets, we only keep rows with tweets that haven't been seen before. The final size of the data should be much smaller."
   ]
  },
  {
   "cell_type": "code",
   "execution_count": 26,
   "metadata": {},
   "outputs": [
    {
     "name": "stdout",
     "output_type": "stream",
     "text": [
      "100000\n",
      "200000\n",
      "300000\n",
      "400000\n",
      "500000\n",
      "600000\n",
      "700000\n",
      "800000\n",
      "900000\n",
      "1000000\n",
      "1100000\n",
      "1200000\n",
      "1300000\n",
      "1400000\n",
      "1500000\n",
      "1600000\n",
      "1700000\n",
      "1800000\n",
      "1900000\n",
      "2000000\n",
      "2100000\n",
      "2200000\n",
      "2300000\n",
      "2400000\n",
      "2500000\n",
      "2600000\n",
      "2700000\n",
      "2800000\n",
      "2900000\n",
      "3000000\n",
      "3100000\n",
      "3200000\n",
      "3300000\n",
      "3400000\n",
      "3500000\n",
      "3600000\n",
      "3700000\n",
      "3800000\n",
      "3900000\n",
      "4000000\n",
      "4100000\n",
      "4200000\n",
      "4300000\n",
      "4400000\n",
      "4500000\n",
      "4600000\n",
      "4700000\n",
      "4800000\n",
      "4900000\n",
      "5000000\n",
      "5100000\n",
      "5200000\n",
      "5300000\n",
      "5400000\n",
      "5500000\n",
      "5600000\n",
      "5700000\n",
      "5800000\n",
      "5900000\n",
      "6000000\n",
      "6100000\n",
      "6200000\n",
      "6300000\n",
      "6400000\n",
      "6500000\n",
      "6600000\n",
      "6700000\n",
      "6800000\n",
      "6900000\n",
      "7000000\n"
     ]
    }
   ],
   "source": [
    "#helper function that gets rid of the retweet annotation if present\n",
    "def process_tweet(tweet):\n",
    "    #get rid of the retweet annotation if present\n",
    "    if tweet[:2] == 'RT':\n",
    "        index = tweet.find(':')\n",
    "        if index == -1:\n",
    "            #print('weird format...')\n",
    "            #print(tweet[:50])\n",
    "            \n",
    "            #no colon, so just get rid of the first word after RT\n",
    "            words = tweet.split()\n",
    "            return ' '.join(words[2:])\n",
    "            \n",
    "        return tweet[tweet.index(':') + 2:]\n",
    "    else:\n",
    "        return tweet\n",
    "\n",
    "#keeps track of which tweets have been seen\n",
    "seen_tweets = set()\n",
    "\n",
    "#data to create new pruned dataframe\n",
    "tweets = []\n",
    "retweet_count = []\n",
    "\n",
    "index = 0\n",
    "for row in df.iterrows():\n",
    "    tweet = process_tweet(row[1]['text'])\n",
    "    if tweet == None:\n",
    "        break\n",
    "    count = row[1]['retweet_count']\n",
    "    \n",
    "    if tweet not in seen_tweets:\n",
    "        seen_tweets.add(tweet)\n",
    "        tweets.append(tweet)\n",
    "        retweet_count.append(count)\n",
    "    \n",
    "    index += 1\n",
    "    if index % 500000 == 0:\n",
    "        print(index)\n",
    "\n",
    "print('number of unique tweets: ' + str(len(seen_tweets)))"
   ]
  },
  {
   "cell_type": "code",
   "execution_count": 30,
   "metadata": {},
   "outputs": [
    {
     "name": "stdout",
     "output_type": "stream",
     "text": [
      "(1299428, 2)\n"
     ]
    },
    {
     "data": {
      "text/html": [
       "<div>\n",
       "<style scoped>\n",
       "    .dataframe tbody tr th:only-of-type {\n",
       "        vertical-align: middle;\n",
       "    }\n",
       "\n",
       "    .dataframe tbody tr th {\n",
       "        vertical-align: top;\n",
       "    }\n",
       "\n",
       "    .dataframe thead th {\n",
       "        text-align: right;\n",
       "    }\n",
       "</style>\n",
       "<table border=\"1\" class=\"dataframe\">\n",
       "  <thead>\n",
       "    <tr style=\"text-align: right;\">\n",
       "      <th></th>\n",
       "      <th>text</th>\n",
       "      <th>retweet_count</th>\n",
       "    </tr>\n",
       "  </thead>\n",
       "  <tbody>\n",
       "    <tr>\n",
       "      <th>0</th>\n",
       "      <td>Displaced dog jumped into my jeep. Please shar...</td>\n",
       "      <td>9193</td>\n",
       "    </tr>\n",
       "    <tr>\n",
       "      <th>1</th>\n",
       "      <td>Water is seeping into the studio from Buffalo ...</td>\n",
       "      <td>16</td>\n",
       "    </tr>\n",
       "    <tr>\n",
       "      <th>2</th>\n",
       "      <td>OPEN SHELTER: North Shore 9th Grade Center -  ...</td>\n",
       "      <td>36</td>\n",
       "    </tr>\n",
       "    <tr>\n",
       "      <th>3</th>\n",
       "      <td>This dog is walking around Sinton TX carrying ...</td>\n",
       "      <td>8626</td>\n",
       "    </tr>\n",
       "    <tr>\n",
       "      <th>4</th>\n",
       "      <td>Please remember: #Harvey is still an active st...</td>\n",
       "      <td>673</td>\n",
       "    </tr>\n",
       "  </tbody>\n",
       "</table>\n",
       "</div>"
      ],
      "text/plain": [
       "                                                text  retweet_count\n",
       "0  Displaced dog jumped into my jeep. Please shar...           9193\n",
       "1  Water is seeping into the studio from Buffalo ...             16\n",
       "2  OPEN SHELTER: North Shore 9th Grade Center -  ...             36\n",
       "3  This dog is walking around Sinton TX carrying ...           8626\n",
       "4  Please remember: #Harvey is still an active st...            673"
      ]
     },
     "execution_count": 30,
     "metadata": {},
     "output_type": "execute_result"
    }
   ],
   "source": [
    "#now create a new dataframe with only the unique tweets and their associated retweet counts\n",
    "df_pruned = pd.DataFrame({'text':tweets, 'retweet_count':retweet_count})\n",
    "print(df_pruned.shape)\n",
    "df_pruned.head()"
   ]
  },
  {
   "cell_type": "code",
   "execution_count": 31,
   "metadata": {},
   "outputs": [],
   "source": [
    "#now just write to a file for future use\n",
    "df_pruned.to_csv('data/twitter_unique.csv')"
   ]
  }
 ],
 "metadata": {
  "kernelspec": {
   "display_name": "Python 3",
   "language": "python",
   "name": "python3"
  },
  "language_info": {
   "codemirror_mode": {
    "name": "ipython",
    "version": 3
   },
   "file_extension": ".py",
   "mimetype": "text/x-python",
   "name": "python",
   "nbconvert_exporter": "python",
   "pygments_lexer": "ipython3",
   "version": "3.6.8"
  }
 },
 "nbformat": 4,
 "nbformat_minor": 2
}
