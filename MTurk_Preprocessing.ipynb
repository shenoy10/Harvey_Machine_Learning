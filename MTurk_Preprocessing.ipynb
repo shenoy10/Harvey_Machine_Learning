{
 "cells": [
  {
   "cell_type": "code",
   "execution_count": 1,
   "metadata": {},
   "outputs": [],
   "source": [
    "import pandas as pd\n",
    "import numpy as np"
   ]
  },
  {
   "cell_type": "code",
   "execution_count": 41,
   "metadata": {},
   "outputs": [
    {
     "name": "stdout",
     "output_type": "stream",
     "text": [
      "(2000, 6)\n"
     ]
    },
    {
     "data": {
      "text/html": [
       "<div>\n",
       "<style scoped>\n",
       "    .dataframe tbody tr th:only-of-type {\n",
       "        vertical-align: middle;\n",
       "    }\n",
       "\n",
       "    .dataframe tbody tr th {\n",
       "        vertical-align: top;\n",
       "    }\n",
       "\n",
       "    .dataframe thead th {\n",
       "        text-align: right;\n",
       "    }\n",
       "</style>\n",
       "<table border=\"1\" class=\"dataframe\">\n",
       "  <thead>\n",
       "    <tr style=\"text-align: right;\">\n",
       "      <th></th>\n",
       "      <th>Text</th>\n",
       "      <th>Reaction</th>\n",
       "      <th>Report</th>\n",
       "      <th>Request</th>\n",
       "      <th>NotRelevant</th>\n",
       "      <th>Urgency</th>\n",
       "    </tr>\n",
       "  </thead>\n",
       "  <tbody>\n",
       "    <tr>\n",
       "      <th>0</th>\n",
       "      <td>your rescue boats, vehicles, volunteer craft ...</td>\n",
       "      <td>0</td>\n",
       "      <td>0</td>\n",
       "      <td>1</td>\n",
       "      <td>2</td>\n",
       "      <td>0</td>\n",
       "    </tr>\n",
       "    <tr>\n",
       "      <th>1</th>\n",
       "      <td>! @Billcassidy on adding short-term debt limit...</td>\n",
       "      <td>1</td>\n",
       "      <td>1</td>\n",
       "      <td>0</td>\n",
       "      <td>1</td>\n",
       "      <td>0</td>\n",
       "    </tr>\n",
       "    <tr>\n",
       "      <th>2</th>\n",
       "      <td>!!  According to #PBS, #Houston convention cen...</td>\n",
       "      <td>0</td>\n",
       "      <td>0</td>\n",
       "      <td>3</td>\n",
       "      <td>0</td>\n",
       "      <td>0</td>\n",
       "    </tr>\n",
       "    <tr>\n",
       "      <th>3</th>\n",
       "      <td>\"100,000 homes have been damaged by #Harvey an...</td>\n",
       "      <td>0</td>\n",
       "      <td>3</td>\n",
       "      <td>0</td>\n",
       "      <td>0</td>\n",
       "      <td>0</td>\n",
       "    </tr>\n",
       "    <tr>\n",
       "      <th>4</th>\n",
       "      <td>\"Do you need us to get a boat?\" Things I never...</td>\n",
       "      <td>1</td>\n",
       "      <td>0</td>\n",
       "      <td>0</td>\n",
       "      <td>2</td>\n",
       "      <td>0</td>\n",
       "    </tr>\n",
       "  </tbody>\n",
       "</table>\n",
       "</div>"
      ],
      "text/plain": [
       "                                                Text  Reaction  Report  \\\n",
       "0   your rescue boats, vehicles, volunteer craft ...         0       0   \n",
       "1  ! @Billcassidy on adding short-term debt limit...         1       1   \n",
       "2  !!  According to #PBS, #Houston convention cen...         0       0   \n",
       "3  \"100,000 homes have been damaged by #Harvey an...         0       3   \n",
       "4  \"Do you need us to get a boat?\" Things I never...         1       0   \n",
       "\n",
       "   Request  NotRelevant  Urgency  \n",
       "0        1            2        0  \n",
       "1        0            1        0  \n",
       "2        3            0        0  \n",
       "3        0            0        0  \n",
       "4        0            2        0  "
      ]
     },
     "execution_count": 41,
     "metadata": {},
     "output_type": "execute_result"
    }
   ],
   "source": [
    "df = pd.read_csv('data/mturk_results_0-2000.csv').rename(index=str, columns =\n",
    "            {'Input.text':'Text', 'Answer.Reaction.on':'Reaction', \n",
    "             'Answer.Report.on':'Report', 'Answer.Request.on':'Request',\n",
    "             'Answer.Urgent.on':'Urgency', 'Answer.NotRelevant.on':'NotRelevant'})\n",
    "df.pop('Answer.NotUrgent.on')\n",
    "df['Urgency'] = df['Urgency'].map(lambda x: 1 if x >= 2 else 0)\n",
    "\n",
    "print(df.shape)\n",
    "df.head()"
   ]
  },
  {
   "cell_type": "code",
   "execution_count": 42,
   "metadata": {},
   "outputs": [],
   "source": [
    "#now loop through the rows and only keep those whose ties can be broken\n",
    "relevancy = []\n",
    "categories = ['NotRelevant', 'Request', 'Report', 'Reaction']\n",
    "for row in df.itertuples(index=False):\n",
    "    majority = -1\n",
    "    for c in categories:\n",
    "        if getattr(row, c) >= 2:\n",
    "            majority = categories.index(c)\n",
    "            break\n",
    "    relevancy.append(majority)"
   ]
  },
  {
   "cell_type": "code",
   "execution_count": 43,
   "metadata": {},
   "outputs": [
    {
     "name": "stdout",
     "output_type": "stream",
     "text": [
      "(1741, 3)\n"
     ]
    },
    {
     "data": {
      "text/html": [
       "<div>\n",
       "<style scoped>\n",
       "    .dataframe tbody tr th:only-of-type {\n",
       "        vertical-align: middle;\n",
       "    }\n",
       "\n",
       "    .dataframe tbody tr th {\n",
       "        vertical-align: top;\n",
       "    }\n",
       "\n",
       "    .dataframe thead th {\n",
       "        text-align: right;\n",
       "    }\n",
       "</style>\n",
       "<table border=\"1\" class=\"dataframe\">\n",
       "  <thead>\n",
       "    <tr style=\"text-align: right;\">\n",
       "      <th></th>\n",
       "      <th>Text</th>\n",
       "      <th>Urgency</th>\n",
       "      <th>Relevancy</th>\n",
       "    </tr>\n",
       "  </thead>\n",
       "  <tbody>\n",
       "    <tr>\n",
       "      <th>0</th>\n",
       "      <td>your rescue boats, vehicles, volunteer craft ...</td>\n",
       "      <td>0</td>\n",
       "      <td>0</td>\n",
       "    </tr>\n",
       "    <tr>\n",
       "      <th>2</th>\n",
       "      <td>!!  According to #PBS, #Houston convention cen...</td>\n",
       "      <td>0</td>\n",
       "      <td>1</td>\n",
       "    </tr>\n",
       "    <tr>\n",
       "      <th>3</th>\n",
       "      <td>\"100,000 homes have been damaged by #Harvey an...</td>\n",
       "      <td>0</td>\n",
       "      <td>2</td>\n",
       "    </tr>\n",
       "    <tr>\n",
       "      <th>4</th>\n",
       "      <td>\"Do you need us to get a boat?\" Things I never...</td>\n",
       "      <td>0</td>\n",
       "      <td>0</td>\n",
       "    </tr>\n",
       "    <tr>\n",
       "      <th>5</th>\n",
       "      <td>\"Flood of epic proportions.\" #HurricaneHarvey ...</td>\n",
       "      <td>0</td>\n",
       "      <td>3</td>\n",
       "    </tr>\n",
       "  </tbody>\n",
       "</table>\n",
       "</div>"
      ],
      "text/plain": [
       "                                                Text  Urgency  Relevancy\n",
       "0   your rescue boats, vehicles, volunteer craft ...        0          0\n",
       "2  !!  According to #PBS, #Houston convention cen...        0          1\n",
       "3  \"100,000 homes have been damaged by #Harvey an...        0          2\n",
       "4  \"Do you need us to get a boat?\" Things I never...        0          0\n",
       "5  \"Flood of epic proportions.\" #HurricaneHarvey ...        0          3"
      ]
     },
     "execution_count": 43,
     "metadata": {},
     "output_type": "execute_result"
    }
   ],
   "source": [
    "#now drop all the rows that don't have a majority\n",
    "df['Relevancy'] = relevancy\n",
    "df = df[df.Relevancy > -1]\n",
    "df.drop(categories, axis=1, inplace=True)\n",
    "print(df.shape)\n",
    "df.head()"
   ]
  },
  {
   "cell_type": "code",
   "execution_count": 46,
   "metadata": {},
   "outputs": [],
   "source": [
    "df.to_csv('data/mturk_results_0-2000_processed.csv', index=False)"
   ]
  },
  {
   "cell_type": "code",
   "execution_count": null,
   "metadata": {},
   "outputs": [],
   "source": []
  }
 ],
 "metadata": {
  "kernelspec": {
   "display_name": "Python 3",
   "language": "python",
   "name": "python3"
  },
  "language_info": {
   "codemirror_mode": {
    "name": "ipython",
    "version": 3
   },
   "file_extension": ".py",
   "mimetype": "text/x-python",
   "name": "python",
   "nbconvert_exporter": "python",
   "pygments_lexer": "ipython3",
   "version": "3.6.8"
  }
 },
 "nbformat": 4,
 "nbformat_minor": 2
}
